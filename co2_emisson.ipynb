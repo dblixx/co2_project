{
 "cells": [
  {
   "cell_type": "markdown",
   "metadata": {},
   "source": [
    "# 1. The Link between CO2 Emissions and Population \n",
    "\n",
    "The Kaya Identity presents the decomposition of CO2 emissions into four driving factors:  \n",
    "- Population\n",
    "- GDP per capita\n",
    "- Energy Intensity\n",
    "- Carbon Footprint of the Energy\n",
    "\n",
    "Here we want to dig in to the Kaya Identity data and investigate the relationship between CO2 emissions and population. The main proposed questions are:  \n",
    "- Is there a link between the **CO2 emissions** of a given country and its **population**?\n",
    "- Are there differences across different countries and regions, is there a trend?"
   ]
  },
  {
   "cell_type": "code",
   "execution_count": 1,
   "metadata": {},
   "outputs": [
    {
     "ename": "ModuleNotFoundError",
     "evalue": "No module named 'Functions'",
     "output_type": "error",
     "traceback": [
      "\u001b[1;31m---------------------------------------------------------------------------\u001b[0m",
      "\u001b[1;31mModuleNotFoundError\u001b[0m                       Traceback (most recent call last)",
      "\u001b[1;32m<ipython-input-1-27afa6a3e6b9>\u001b[0m in \u001b[0;36m<module>\u001b[1;34m\u001b[0m\n\u001b[0;32m      5\u001b[0m \u001b[1;33m\u001b[0m\u001b[0m\n\u001b[0;32m      6\u001b[0m \u001b[1;31m# Import modules containing functions\u001b[0m\u001b[1;33m\u001b[0m\u001b[1;33m\u001b[0m\u001b[1;33m\u001b[0m\u001b[0m\n\u001b[1;32m----> 7\u001b[1;33m \u001b[1;32mfrom\u001b[0m \u001b[0mFunctions\u001b[0m \u001b[1;32mimport\u001b[0m \u001b[0msubset\u001b[0m\u001b[1;33m,\u001b[0m \u001b[0mplots\u001b[0m\u001b[1;33m\u001b[0m\u001b[1;33m\u001b[0m\u001b[0m\n\u001b[0m",
      "\u001b[1;31mModuleNotFoundError\u001b[0m: No module named 'Functions'"
     ]
    }
   ],
   "source": [
    "# Import necessary packages with common alias\n",
    "import numpy as np\n",
    "import pandas as pd\n",
    "import matplotlib.pyplot as plt\n",
    "\n",
    "# Import modules containing functions\n",
    "from Functions import subset, plots"
   ]
  },
  {
   "cell_type": "markdown",
   "metadata": {},
   "source": [
    "`s3fs` is a PyFilesystem interface to Amazon S3 cloud storage. Here we use this module to retrieve data from S3 buckets.  \n",
    "The `World_Population.xlsx` dataset was downloaded from [population.un.org](https://population.un.org/wpp/Download/Standard/Population/)"
   ]
  },
  {
   "cell_type": "code",
   "execution_count": 9,
   "metadata": {},
   "outputs": [
    {
     "ename": "ImportError",
     "evalue": "Missing optional dependency 'openpyxl'.  Use pip or conda to install openpyxl.",
     "output_type": "error",
     "traceback": [
      "\u001b[1;31m---------------------------------------------------------------------------\u001b[0m",
      "\u001b[1;31mImportError\u001b[0m                               Traceback (most recent call last)",
      "\u001b[1;32m<ipython-input-9-5af5bf7e07a4>\u001b[0m in \u001b[0;36m<module>\u001b[1;34m\u001b[0m\n\u001b[0;32m      3\u001b[0m \u001b[1;31m# Retrieve data from S3 buckets\u001b[0m\u001b[1;33m\u001b[0m\u001b[1;33m\u001b[0m\u001b[1;33m\u001b[0m\u001b[0m\n\u001b[0;32m      4\u001b[0m \u001b[0mco2_file\u001b[0m \u001b[1;33m=\u001b[0m \u001b[0mpd\u001b[0m\u001b[1;33m.\u001b[0m\u001b[0mExcelFile\u001b[0m\u001b[1;33m(\u001b[0m\u001b[1;34m's3://s3groupbrugge/Data/CO2Highlights2020.xls'\u001b[0m\u001b[1;33m)\u001b[0m\u001b[1;33m\u001b[0m\u001b[1;33m\u001b[0m\u001b[0m\n\u001b[1;32m----> 5\u001b[1;33m \u001b[0mpopulation_file\u001b[0m \u001b[1;33m=\u001b[0m \u001b[0mpd\u001b[0m\u001b[1;33m.\u001b[0m\u001b[0mExcelFile\u001b[0m\u001b[1;33m(\u001b[0m\u001b[1;34m's3://s3groupbrugge/Data/World_Population.xlsx'\u001b[0m\u001b[1;33m)\u001b[0m\u001b[1;33m\u001b[0m\u001b[1;33m\u001b[0m\u001b[0m\n\u001b[0m",
      "\u001b[1;32m~\\anaconda3\\envs\\mda\\lib\\site-packages\\pandas\\io\\excel\\_base.py\u001b[0m in \u001b[0;36m__init__\u001b[1;34m(self, path_or_buffer, engine, storage_options)\u001b[0m\n\u001b[0;32m   1231\u001b[0m         \u001b[0mself\u001b[0m\u001b[1;33m.\u001b[0m\u001b[0mstorage_options\u001b[0m \u001b[1;33m=\u001b[0m \u001b[0mstorage_options\u001b[0m\u001b[1;33m\u001b[0m\u001b[1;33m\u001b[0m\u001b[0m\n\u001b[0;32m   1232\u001b[0m \u001b[1;33m\u001b[0m\u001b[0m\n\u001b[1;32m-> 1233\u001b[1;33m         \u001b[0mself\u001b[0m\u001b[1;33m.\u001b[0m\u001b[0m_reader\u001b[0m \u001b[1;33m=\u001b[0m \u001b[0mself\u001b[0m\u001b[1;33m.\u001b[0m\u001b[0m_engines\u001b[0m\u001b[1;33m[\u001b[0m\u001b[0mengine\u001b[0m\u001b[1;33m]\u001b[0m\u001b[1;33m(\u001b[0m\u001b[0mself\u001b[0m\u001b[1;33m.\u001b[0m\u001b[0m_io\u001b[0m\u001b[1;33m,\u001b[0m \u001b[0mstorage_options\u001b[0m\u001b[1;33m=\u001b[0m\u001b[0mstorage_options\u001b[0m\u001b[1;33m)\u001b[0m\u001b[1;33m\u001b[0m\u001b[1;33m\u001b[0m\u001b[0m\n\u001b[0m\u001b[0;32m   1234\u001b[0m \u001b[1;33m\u001b[0m\u001b[0m\n\u001b[0;32m   1235\u001b[0m     \u001b[1;32mdef\u001b[0m \u001b[0m__fspath__\u001b[0m\u001b[1;33m(\u001b[0m\u001b[0mself\u001b[0m\u001b[1;33m)\u001b[0m\u001b[1;33m:\u001b[0m\u001b[1;33m\u001b[0m\u001b[1;33m\u001b[0m\u001b[0m\n",
      "\u001b[1;32m~\\anaconda3\\envs\\mda\\lib\\site-packages\\pandas\\io\\excel\\_openpyxl.py\u001b[0m in \u001b[0;36m__init__\u001b[1;34m(self, filepath_or_buffer, storage_options)\u001b[0m\n\u001b[0;32m    519\u001b[0m             \u001b[0mpassed\u001b[0m \u001b[0mto\u001b[0m \u001b[0mfsspec\u001b[0m \u001b[1;32mfor\u001b[0m \u001b[0mappropriate\u001b[0m \u001b[0mURLs\u001b[0m \u001b[1;33m(\u001b[0m\u001b[0msee\u001b[0m\u001b[0;31m \u001b[0m\u001b[0;31m`\u001b[0m\u001b[0;31m`\u001b[0m\u001b[0m_get_filepath_or_buffer\u001b[0m\u001b[0;31m`\u001b[0m\u001b[0;31m`\u001b[0m\u001b[1;33m)\u001b[0m\u001b[1;33m\u001b[0m\u001b[1;33m\u001b[0m\u001b[0m\n\u001b[0;32m    520\u001b[0m         \"\"\"\n\u001b[1;32m--> 521\u001b[1;33m         \u001b[0mimport_optional_dependency\u001b[0m\u001b[1;33m(\u001b[0m\u001b[1;34m\"openpyxl\"\u001b[0m\u001b[1;33m)\u001b[0m\u001b[1;33m\u001b[0m\u001b[1;33m\u001b[0m\u001b[0m\n\u001b[0m\u001b[0;32m    522\u001b[0m         \u001b[0msuper\u001b[0m\u001b[1;33m(\u001b[0m\u001b[1;33m)\u001b[0m\u001b[1;33m.\u001b[0m\u001b[0m__init__\u001b[0m\u001b[1;33m(\u001b[0m\u001b[0mfilepath_or_buffer\u001b[0m\u001b[1;33m,\u001b[0m \u001b[0mstorage_options\u001b[0m\u001b[1;33m=\u001b[0m\u001b[0mstorage_options\u001b[0m\u001b[1;33m)\u001b[0m\u001b[1;33m\u001b[0m\u001b[1;33m\u001b[0m\u001b[0m\n\u001b[0;32m    523\u001b[0m \u001b[1;33m\u001b[0m\u001b[0m\n",
      "\u001b[1;32m~\\anaconda3\\envs\\mda\\lib\\site-packages\\pandas\\compat\\_optional.py\u001b[0m in \u001b[0;36mimport_optional_dependency\u001b[1;34m(name, extra, errors, min_version)\u001b[0m\n\u001b[0;32m    116\u001b[0m     \u001b[1;32mexcept\u001b[0m \u001b[0mImportError\u001b[0m\u001b[1;33m:\u001b[0m\u001b[1;33m\u001b[0m\u001b[1;33m\u001b[0m\u001b[0m\n\u001b[0;32m    117\u001b[0m         \u001b[1;32mif\u001b[0m \u001b[0merrors\u001b[0m \u001b[1;33m==\u001b[0m \u001b[1;34m\"raise\"\u001b[0m\u001b[1;33m:\u001b[0m\u001b[1;33m\u001b[0m\u001b[1;33m\u001b[0m\u001b[0m\n\u001b[1;32m--> 118\u001b[1;33m             \u001b[1;32mraise\u001b[0m \u001b[0mImportError\u001b[0m\u001b[1;33m(\u001b[0m\u001b[0mmsg\u001b[0m\u001b[1;33m)\u001b[0m \u001b[1;32mfrom\u001b[0m \u001b[1;32mNone\u001b[0m\u001b[1;33m\u001b[0m\u001b[1;33m\u001b[0m\u001b[0m\n\u001b[0m\u001b[0;32m    119\u001b[0m         \u001b[1;32melse\u001b[0m\u001b[1;33m:\u001b[0m\u001b[1;33m\u001b[0m\u001b[1;33m\u001b[0m\u001b[0m\n\u001b[0;32m    120\u001b[0m             \u001b[1;32mreturn\u001b[0m \u001b[1;32mNone\u001b[0m\u001b[1;33m\u001b[0m\u001b[1;33m\u001b[0m\u001b[0m\n",
      "\u001b[1;31mImportError\u001b[0m: Missing optional dependency 'openpyxl'.  Use pip or conda to install openpyxl."
     ]
    }
   ],
   "source": [
    "import s3fs\n",
    "\n",
    "# Retrieve data from S3 buckets\n",
    "co2_file = pd.ExcelFile('s3://s3groupbrugge/Data/CO2Highlights2020.xls')\n",
    "population_file = pd.ExcelFile('s3://s3groupbrugge/Data/World_Population.xlsx')"
   ]
  },
  {
   "cell_type": "markdown",
   "metadata": {},
   "source": [
    "# 2. Data Cleaning\n",
    "\n",
    "In `World_Population.xlsx`, we can find many tables describing CO2 emissions in multi-level. Here we choose the `KAYA`table which contains statistics of the KAYA decomposition. \n",
    "\n",
    "This table shows the **relative changes** of CO2 emissions and population of each country/region from 1971 to 2018. It facilitates the analysis of CO2-population relationship in one specific country but not suitable for comparison in between.\n",
    "\n",
    "The original dataset is poorly structured and has some features that are not conducive to data selection and manipulation, thus it's crucial to clean and standardize the data. Firstly, we should select a subset of the data and deal with the redundant or missing column names."
   ]
  },
  {
   "cell_type": "code",
   "execution_count": null,
   "metadata": {
    "scrolled": true
   },
   "outputs": [],
   "source": [
    "# Create a list of columns to select from the table\n",
    "list_of_cols = [i for i in range(50)]\n",
    "\n",
    "# Create a list of years\n",
    "year = [i for i in range(1971,2019)]\n",
    "\n",
    "# Set the name of the selected columns\n",
    "col_names = ['Name', 'Factor'] + year\n",
    "\n",
    "# Parse the 'KAYA' table\n",
    "kaya_co2 = co2_file.parse('KAYA', skiprows=[0,1,2,4], usecols= list_of_cols, names=col_names)\n",
    "\n",
    "kaya_co2.head(10)"
   ]
  },
  {
   "cell_type": "markdown",
   "metadata": {},
   "source": [
    "By looking at a random sample of the dataset rows, we can find: \n",
    "- multiple gap/duplicated rows \n",
    "- missing values of `str` type stored as \"..\"\n",
    "- incomplete country/region values."
   ]
  },
  {
   "cell_type": "code",
   "execution_count": null,
   "metadata": {
    "scrolled": false
   },
   "outputs": [],
   "source": [
    "# Drop all the gap rows\n",
    "kaya_co2.dropna(how='all', axis=0, inplace=True)\n",
    "\n",
    "# Drop all the duplicated rows\n",
    "kaya_co2.drop_duplicates(inplace=True)\n",
    "\n",
    "# Fill in the missing 'Name' values with forward fill method\n",
    "kaya_co2['Name'].fillna(method=\"ffill\", inplace=True)\n",
    "\n",
    "# Replace all the \"..\" with real missing values\n",
    "kaya_co2.replace(\"..\", np.nan, inplace=True)\n",
    "\n",
    "kaya_co2.head(10)"
   ]
  },
  {
   "cell_type": "markdown",
   "metadata": {},
   "source": [
    "# 3. The link between the CO2-Population of a given country\n",
    "\n",
    "Here we are interested in the relationship between the CO2 emissions and the population of a given country. We choose China's data as our research object. By specifying the values of `Name` and `Factor` columns, we retrieve the CO2-Pop data of China from 1971 to 2018. \n",
    "\n",
    "For the convenience of plotting, we transpose the subset so that the CO2 and population are in columns.\n"
   ]
  },
  {
   "cell_type": "code",
   "execution_count": null,
   "metadata": {},
   "outputs": [],
   "source": [
    "# Subset of China's CO2-Pop\n",
    "cp_china = kaya_co2[(kaya_co2['Name']==\"People's Rep. of China\")&(kaya_co2['Factor'].isin([\"CO2 emissions\", \"Population\"]))]\n",
    "\n",
    "# Transpose the subset of certain ranges\n",
    "year_range = [i for i in range(1971, 2019)]\n",
    "cp_china_trans = cp_china[year_range].T\n",
    "\n",
    "# Show the transposed dataset\n",
    "print(cp_china_trans.head())\n",
    "print(\"\\nThe shape of the dataset after transpose:\" + str(cp_china_trans.shape))"
   ]
  },
  {
   "cell_type": "markdown",
   "metadata": {},
   "source": [
    "To explore the link between the CO2 emissions and the population of China, we plot these two variables as pairs using `matplotlib.pyplot`. Though the data was recorded in time-series, it doesn't necessarily indicate that the plot would be continuous. Therefore, a scatter plot would be a good choice, with the CO2 emissions represented along the x-axis and the population along the y-axis. This will allow us to easily spot any trends. Furthermore, we can add a regression line to elaborate on that.\n",
    "\n",
    "**Note** that both CO2 emissions and population are recorded as relative level compared to the reference year(Normally 1900 at the level of 100). So while plotting, we subtract all values with 100 to better show the fold changes."
   ]
  },
  {
   "cell_type": "code",
   "execution_count": null,
   "metadata": {},
   "outputs": [],
   "source": [
    "# Set the style of the figure\n",
    "plt.style.use(\"ggplot\")\n",
    "\n",
    "# Initalize a figure and axes\n",
    "fig, ax = plt.subplots()\n",
    "fig.set_size_inches([6,5])\n",
    "\n",
    "# Draw a scatter plot and set the labels and the title\n",
    "ax.scatter(cp_china_trans.iloc[:,0]-100, cp_china_trans.iloc[:,1]-100, color='steelblue')\n",
    "ax.set_ylabel(\"Population\", color=\"steelblue\")\n",
    "ax.set_xlabel(\"CO2 Emissions\",color=\"steelblue\")\n",
    "ax.set_title(\"China Population vs CO2 Emissions\", color=\"brown\")\n",
    "\n",
    "# Add a regression line to the plot\n",
    "x = pd.Series.to_numpy(cp_china_trans.iloc[:,0]-100)\n",
    "y = pd.Series.to_numpy(cp_china_trans.iloc[:,1]-100)\n",
    "m, b = np.polyfit(x.astype(float), y.astype(float), 1)\n",
    "ax.plot(x, m*x+b, color = 'salmon')\n",
    "\n",
    "# Show the plot\n",
    "plt.show()"
   ]
  },
  {
   "cell_type": "markdown",
   "metadata": {},
   "source": [
    "# 4. Trends in the world and 5 continents\n",
    "\n",
    "Now we want to answer the second proposed question: Are there differences across different countries and regions, is there a trend?\n",
    "\n",
    "By looking at only one specific country, we can't conclude that this positive correlation between these two variables is a universal property among the world. So we extend our research into wider ranges: the world and 5 continents. Now that there are many repetitive codes to write, we can aggregate those code lines into functions. Several functions were made: \n",
    "- In module `subset`: \n",
    "> `transpose_T(df)`: Return the transpose of the given DataFrame from kaya co2 data.  \n",
    "> `specify_df_T(df, name, factors)`: Get the transposed DataFrame of the given one specific region/country and factors.\n",
    "- In modele `plots`:\n",
    "> `ax_scatter(axes, x, y, xlabel, ylabel, title, color='steelblue', reg=False)`: Create a scatter plot on the given axes with certain parameters. The `reg` is `False` in default. A regression line will be added if it is set to `True`."
   ]
  },
  {
   "cell_type": "code",
   "execution_count": null,
   "metadata": {},
   "outputs": [],
   "source": [
    "# Specify the subsets with region and factors\n",
    "cp_world = subset.specify_df_T(kaya_co2, \"World\", [\"CO2 emissions\", \"Population\"])\n",
    "cp_africa = subset.specify_df_T(kaya_co2, \"Africa\", [\"CO2 emissions\", \"Population\"])\n",
    "cp_americas = subset.specify_df_T(kaya_co2, \"Americas\", [\"CO2 emissions\", \"Population\"])\n",
    "cp_asia = subset.specify_df_T(kaya_co2, \"Asia\", [\"CO2 emissions\", \"Population\"])\n",
    "cp_europe = subset.specify_df_T(kaya_co2, \"Europe\", [\"CO2 emissions\", \"Population\"])\n",
    "cp_oceania = subset.specify_df_T(kaya_co2, \"Oceania\", [\"CO2 emissions\", \"Population\"])\n",
    "\n",
    "cp_world"
   ]
  },
  {
   "cell_type": "markdown",
   "metadata": {},
   "source": [
    "#### Plot the CO2 emissions against population in 2×3 subplots"
   ]
  },
  {
   "cell_type": "code",
   "execution_count": null,
   "metadata": {},
   "outputs": [],
   "source": [
    "# Create variables for data slicing\n",
    "co2_x = \"CO2 Emissions\"\n",
    "pop_y = \"Population\"\n",
    "\n",
    "# Create a 2×3 subplots\n",
    "fig, ax = plt.subplots(2,3)\n",
    "fig.set_size_inches([10,7])\n",
    "\n",
    "# Plot the world and continents data in 6 axes\n",
    "plots.ax_scatter(ax[0,0], cp_world.iloc[:,0]-100, cp_world.iloc[:,1]-100, None, pop_y, \"World\", reg=True)\n",
    "plots.ax_scatter(ax[0,1], cp_africa.iloc[:,0]-100, cp_africa.iloc[:,1]-100, None, None, \"Africa\", reg=True)\n",
    "plots.ax_scatter(ax[0,2], cp_americas.iloc[:,0]-100, cp_americas.iloc[:,1]-100, None, None, \"Americas\", reg=True)\n",
    "plots.ax_scatter(ax[1,0], cp_asia.iloc[:,0]-100, cp_asia.iloc[:,1]-100, co2_x, pop_y, \"Asia\", reg=True)\n",
    "plots.ax_scatter(ax[1,1], cp_europe.iloc[:,0]-100, cp_europe.iloc[:,1]-100, co2_x, None, \"Europe\", reg=True)\n",
    "plots.ax_scatter(ax[1,2], cp_oceania.iloc[:,0]-100, cp_oceania.iloc[:,1]-100, co2_x, None, \"Oceania\", reg=True)\n",
    "\n",
    "# Show the plot\n",
    "plt.show()"
   ]
  },
  {
   "cell_type": "markdown",
   "metadata": {},
   "source": [
    "It is clear that in the above figures the population and co2 emissions are nicely positive-correlated except for **Europe**, and the linear regression lines fit pretty well, which suggests that this trend applies in most of the conditions. But why is **Europe** different from the other continents? We can look at the two variables in time-series separately."
   ]
  },
  {
   "cell_type": "code",
   "execution_count": null,
   "metadata": {},
   "outputs": [],
   "source": [
    "# Initalize a figure and axes\n",
    "fig, ax = plt.subplots()\n",
    "\n",
    "# Plot the CO2 emissions in salmon\n",
    "ax.plot(cp_europe.index, cp_europe['CO2 emissions'], color='salmon', label='CO2')\n",
    "ax.set_xlabel('Time')\n",
    "ax.set_ylabel('CO2 emissions', color='salmon')\n",
    "ax.tick_params('y', color='salmon')\n",
    "ax.set_title('European CO2 and Pop in time-series', color='brown')\n",
    "\n",
    "# Create a twin Axes that shares the x-axis\n",
    "ax_twin = ax.twinx()\n",
    "\n",
    "# Plot the population in steelblue\n",
    "ax_twin.plot(cp_europe.index, cp_europe['Population'], color='steelblue', label='Pop')\n",
    "ax_twin.set_ylabel('Population', color='steelblue')\n",
    "ax_twin.tick_params('y', color='steelblue')\n",
    "\n",
    "# Show the plot\n",
    "plt.show()"
   ]
  },
  {
   "cell_type": "markdown",
   "metadata": {},
   "source": [
    "# 5. Trends between different countries/regions\n",
    "\n",
    "So far we have investigated the relation of CO2-pop on individual country/region bases, partially because the `KAYA` table is organized with relative level data. To explore the trend between different countries/regions, we need actual values so that they can be aggregated into one figure for comparison.\n",
    "\n",
    "For this purpose, we turn to the `CO2 FC` table from the original `CO2Highlights2020.xls` file, and `ESTIMATES` data from UN's World Population Project. Initially we select the region and CO2/Population information in 2018 from two files. Then we apply the inner join to connect the two datasets. At last we plot the relations of two variables on the figure."
   ]
  },
  {
   "cell_type": "code",
   "execution_count": null,
   "metadata": {},
   "outputs": [],
   "source": [
    "# Create lists of column indexs and names\n",
    "use_cols=[2, 5, 75]\n",
    "names = ['Name', 'Type', '2018']\n",
    "\n",
    "# Parse the ESTIMATES table\n",
    "population_2018 = population_file.parse('ESTIMATES', skiprows=[i for i in range(16)], usecols=use_cols, names=names)\n",
    "\n",
    "# Select the region and population subset\n",
    "pop_2018 = population_2018.loc[population_2018['Type']=='Country/Area', ('Name','2018')]\n",
    "pop_2018"
   ]
  },
  {
   "cell_type": "code",
   "execution_count": null,
   "metadata": {},
   "outputs": [],
   "source": [
    "# Parse the CO2 FC table\n",
    "co2_2018 = co2_file.parse(\"CO2 FC\", skiprows=[i for i in range(23)], usecols=[0, 48], names=['Name', '2018'])\n",
    "\n",
    "# Drop the rows with missing values\n",
    "co2_2018.dropna(axis=0, inplace=True)\n",
    "\n",
    "co2_2018"
   ]
  },
  {
   "cell_type": "code",
   "execution_count": null,
   "metadata": {},
   "outputs": [],
   "source": [
    "# Inner join two datasets on \"Region\" values\n",
    "co2_pop_2018 = co2_2018.merge(pop_2018, on='Name', suffixes=('_co2', '_pop'))\n",
    "\n",
    "co2_pop_2018"
   ]
  },
  {
   "cell_type": "markdown",
   "metadata": {},
   "source": [
    "Due to the huge disparity in quantity between countries/regions, it is better to use logarithmic scale on each axis. "
   ]
  },
  {
   "cell_type": "code",
   "execution_count": null,
   "metadata": {},
   "outputs": [],
   "source": [
    "# Initalize a figure and axes\n",
    "fig, ax = plt.subplots()\n",
    "fig.set_size_inches([6,6])\n",
    "\n",
    "# Create a scatter plot on countris/regions\n",
    "ax.scatter(co2_pop_2018['2018_pop'], co2_pop_2018['2018_co2'], color='steelblue')\n",
    "\n",
    "# Set the scale to logarithmic\n",
    "plt.xscale('log')\n",
    "plt.yscale('log')\n",
    "\n",
    "# Set the labels and title\n",
    "ax.set_xlabel('Population [in thousands]', color='steelblue')\n",
    "ax.set_ylabel('CO2 Emissions [in million tones]', color='steelblue')\n",
    "ax.set_title('CO2 Emissions vs Population in 2018', color='brown')\n",
    "\n",
    "# Show the plot\n",
    "plt.show()"
   ]
  }
 ],
 "metadata": {
  "kernelspec": {
   "display_name": "Python 3",
   "language": "python",
   "name": "python3"
  },
  "language_info": {
   "codemirror_mode": {
    "name": "ipython",
    "version": 3
   },
   "file_extension": ".py",
   "mimetype": "text/x-python",
   "name": "python",
   "nbconvert_exporter": "python",
   "pygments_lexer": "ipython3",
   "version": "3.8.8"
  }
 },
 "nbformat": 4,
 "nbformat_minor": 4
}
